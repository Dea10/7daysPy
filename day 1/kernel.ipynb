{
  "cells": [
    {
      "metadata": {
        "_uuid": "4df66964d02a91212b8b9b84e1be515cc521b841"
      },
      "cell_type": "markdown",
      "source": "# Exercises"
    },
    {
      "metadata": {
        "_uuid": "d5ab392356d184d03cee32a1c4fb54baba0b8c47"
      },
      "cell_type": "markdown",
      "source": "Welcome to your first set of Python coding problems! Each day's tutorial will be accompanied with a handful of problems so you can practice what you just learned. <!-- We've also provided code you can use to check your answers, get a hint, or peek at the solution. -->\n\nAlso, if this is your first time using Kaggle Kernels, welcome! For a very quick introduction to Kernels' features, [check out this video](https://youtu.be/4C2qMnaIKL4).\n\nTry running the code cell below (by pressing the ► button in the left margin, or clicking on the cell and using the keyboard shortcut ctrl+enter)."
    },
    {
      "metadata": {
        "trusted": true,
        "_uuid": "7431d9074f12a4b0d9aacdc701e9f48ac9287ec7"
      },
      "cell_type": "code",
      "source": "print(\"You've successfully run some Python code\")\nprint(\"Congratulations!\")\nprint(\"Daniel Espinosa Arias\")",
      "execution_count": null,
      "outputs": []
    },
    {
      "metadata": {
        "trusted": true,
        "_uuid": "d47e8e4368a110690e3f33c731c8c1870731b5a3"
      },
      "cell_type": "code",
      "source": "print('Hello World!')",
      "execution_count": null,
      "outputs": []
    },
    {
      "metadata": {
        "_uuid": "17be3dea2c0edde1b73e204a319cb7fb926cb9f6"
      },
      "cell_type": "markdown",
      "source": "Try adding another line of code to the cell above and re-running it. \n\nTry creating a new code cell (using the \"+\" buttons in a cell's top-right menu), writing some code in it, then running it.\n\nGreat! You now know how to use Kernels.\n\nIf you're curious about other ways of running Python code, and how to install Python locally, check out [the installation section of chapter 0 of A Whirlwind Tour of Python](https://www.kaggle.com/sohier/whirlwind-tour-of-python-00-introduction), and chapter 1 of WTOP on [How to Run Python Code](https://www.kaggle.com/sohier/wtop-01-how-to-run-python-code).\n\nEach exercise will start by importing some code that I wrote for checking  your code. Run the code cell below to do that, and you'll be ready to move on to question 0."
    },
    {
      "metadata": {
        "_kg_hide-input": true,
        "_kg_hide-output": true,
        "trusted": true,
        "_uuid": "2bd1390e295582605e368e687ca7f54b34a09fd8"
      },
      "cell_type": "code",
      "source": "# You don't need to worry for now about what this code does or how it works. If you're ever curious about the \n# code behind these exercises, it's available under an open source license here: https://github.com/Kaggle/learntools/\n# (But if you can understand that code, you'll probably find the Python challenge boring :)\nimport sys; sys.path.insert(0, '../input/learntoolspython/learntools/pseudo_learntools')\nfrom learntools.python import binder; binder.bind(globals())\nfrom learntools.python.ex1 import *\nprint(\"Setup complete! You're ready to start question 0.\")",
      "execution_count": null,
      "outputs": []
    },
    {
      "metadata": {
        "_uuid": "fdb28b9c76091a2371c21cb0c4b5f9fc994d67a9"
      },
      "cell_type": "markdown",
      "source": "## 0.\n\n*This is a silly question intended as an introduction to the format we'll be using for questions throughout the Python challenge.*\n\n**What is your favorite color? **\n\nTo complete this question, you must create a variable called `color` in the cell below with an appropriate value. The function call `q0.check()` (which we've already provided in the cell below) will check your answer. If you run the cell below without changing its contents, `q0.check()` will recognize that you haven't attempted the problem yet, and remind you what you need to do. Try that now.\n\n(If  you get a `NameError`, it probably means you didn't run the setup code above. Make sure you run the previous code cell, and see a \"Setup complete!\" message printed.)"
    },
    {
      "metadata": {
        "trusted": true,
        "_uuid": "299c2f59e8cf69f4dd33599bd5bed76719850887"
      },
      "cell_type": "code",
      "source": "# create a variable called color with an appropriate value on the line below.\ncolor = 'blue'\n\nq0.check()\nq0.hint()",
      "execution_count": null,
      "outputs": []
    },
    {
      "metadata": {
        "_uuid": "cc2da0462c4513ebde744a9cc86a7098506fe5c6"
      },
      "cell_type": "markdown",
      "source": "Now try editing the cell below to solve the problem, creating a variable `color` on the second line of the cell. Run the cell to check your answer."
    },
    {
      "metadata": {
        "trusted": true,
        "_uuid": "1d5c7d516e9547579a4b8b264d7ec80aa2fd6926"
      },
      "cell_type": "code",
      "source": "# create a variable called color with an appropriate value on the line below\ncolor='blue'\n# (Remember, strings in Python must be enclosed in 'single' or \"double\" quotes)\n\nq0.check()",
      "execution_count": null,
      "outputs": []
    },
    {
      "metadata": {
        "_uuid": "88758ba6d5cf5e8a90e738b895eece95a6f6a598"
      },
      "cell_type": "markdown",
      "source": "Didn't get the right answer? How do you not even know your own favorite color?!\n\nUncomment the below cell (by deleting the `#`) then run it to get a hint.  \n\nYou can also uncomment the second cell below to get the full answer."
    },
    {
      "metadata": {
        "trusted": true,
        "_uuid": "8b38048eeff312c5a979f6aee58ac30f1f86bf9c"
      },
      "cell_type": "code",
      "source": "q0.hint()",
      "execution_count": null,
      "outputs": []
    },
    {
      "metadata": {
        "trusted": true,
        "_uuid": "d76f968d6805facb239838f454426769b770f66e"
      },
      "cell_type": "code",
      "source": "q0.solution()",
      "execution_count": null,
      "outputs": []
    },
    {
      "metadata": {
        "_uuid": "d5285978dcebae8efd2c31b00cb45ea3d3ae9247"
      },
      "cell_type": "markdown",
      "source": "All the questions for this challenge will have this kind of \"API\". The only thing that will change are the questions numbers. For the next question, you'll call `q1.check()`, `q1.hint()`, `q1.solution()`, for question 5, you'll call `q5.check()`, and so on."
    },
    {
      "metadata": {
        "_uuid": "2b8c86c67bcf9d2eda0d80d2ddd4bfa176b7cec2"
      },
      "cell_type": "markdown",
      "source": "<hr/>\n\n## 1.\n\nComplete the code below."
    },
    {
      "metadata": {
        "_uuid": "ffbe0797b41d56b94a5ed2c75623b111202951d2",
        "trusted": true
      },
      "cell_type": "code",
      "source": "pi = 3.14159 # approximate\ndiameter = 3\n\n# Create a variable called 'radius' equal to half the diameter\nradius = diameter/2\n\n# Create a variable called 'area', using the formula for the area of a circle: pi times the radius squared\narea = pi*radius**2\n\nq1.check()",
      "execution_count": 97,
      "outputs": [
        {
          "output_type": "display_data",
          "data": {
            "text/plain": "Correct",
            "text/markdown": "<span style=\"color:#33cc33\">Correct</span>"
          },
          "metadata": {}
        }
      ]
    },
    {
      "metadata": {
        "trusted": true,
        "collapsed": true,
        "_uuid": "28f5cc4b8bec7f48cad2ad42af5478cf4908d203"
      },
      "cell_type": "code",
      "source": "# Uncomment and run the lines below if you need help.\n#q1.hint()\n#q1.solution()",
      "execution_count": null,
      "outputs": []
    },
    {
      "metadata": {
        "_uuid": "989f50f61ac29d0973f5a2eab227d8bb684fb16c",
        "_cell_guid": "6c3d3c5f-5d5f-4195-9194-59bdeaf86892"
      },
      "cell_type": "markdown",
      "source": "<hr/>\n## 2.\n\nAdd code to the following cell to swap variables `a` and `b` (so that `a` refers to the object previously referred to by `b` and vice versa)."
    },
    {
      "metadata": {
        "_uuid": "8d2bce6ae522facd687131b51e29cde5d9ba17ba",
        "_cell_guid": "d3dba630-d9ff-42ae-87fa-f11f286b723b",
        "trusted": true
      },
      "cell_type": "code",
      "source": "########### Setup code - don't touch this part ######################\n# If you're curious, these are examples of lists. We'll talk about \n# them in depth a few lessons from now. For now, just know that they're\n# yet another type of Python object, like int or float.\na = [1, 2, 3]\nb = [3, 2, 1]\nq2.store_original_ids()\n######################################################################\n\n# Your code goes here. Swap the values to which a and b refer.\nc = a\na = b\nb = c\n# If you get stuck, you can always uncomment one or both of the lines in\n# the next cell for a hint, or to peek at the solution.\n\n######################################################################\nq2.check()",
      "execution_count": 98,
      "outputs": [
        {
          "output_type": "display_data",
          "data": {
            "text/plain": "Correct: \n\nThe most straightforward solution is to use a third variable to temporarily store one of the old values. e.g.:\n\n    tmp = a\n    a = b\n    b = tmp\n\nIf you've read lots of Python code, you might have seen the following trick to swap two variables in one line:\n\n    a, b = b, a\n\nWe'll demystify this bit of Python magic later when we talk about *tuples*.",
            "text/markdown": "<span style=\"color:#33cc33\">Correct:</span> \n\nThe most straightforward solution is to use a third variable to temporarily store one of the old values. e.g.:\n\n    tmp = a\n    a = b\n    b = tmp\n\nIf you've read lots of Python code, you might have seen the following trick to swap two variables in one line:\n\n    a, b = b, a\n\nWe'll demystify this bit of Python magic later when we talk about *tuples*."
          },
          "metadata": {}
        }
      ]
    },
    {
      "metadata": {
        "collapsed": true,
        "_uuid": "acc810ae52cc82202a952149ff8db7c076b1dcb1",
        "_cell_guid": "748609cc-c8be-435e-a455-3fee4df28542",
        "trusted": true
      },
      "cell_type": "code",
      "source": "#q2.hint()",
      "execution_count": null,
      "outputs": []
    },
    {
      "metadata": {
        "trusted": true,
        "collapsed": true,
        "_uuid": "bf7a358127639c45db2c9634df05292fe2d648b4"
      },
      "cell_type": "code",
      "source": "#q2.solution()",
      "execution_count": null,
      "outputs": []
    },
    {
      "metadata": {
        "_uuid": "138eb172dcb7f05029de8b2821c266a7672ada67",
        "_cell_guid": "be352d01-fb30-468a-b74f-c95991b9f382"
      },
      "cell_type": "markdown",
      "source": "<hr/>\n## 3.\n\n<!-- TODO: Or maybe this SHOULD just have a check method for consistency.-->\n\n<small>*Note: some questions, such as this one, won't have a .check() function. In this case, it should hopefully be easy to see whether you've succeeded by visual inspection.*</small>\n\na) Add parentheses to the following expression so that it evaluates to 1."
    },
    {
      "metadata": {
        "_uuid": "cc973d8e93e54271fbf7187bf79a41a75f9cdb14",
        "_cell_guid": "2a04eac0-8b5f-4dec-b7fe-dc6057f99998",
        "trusted": true
      },
      "cell_type": "code",
      "source": "(5 - 3) // 2",
      "execution_count": 99,
      "outputs": [
        {
          "output_type": "execute_result",
          "execution_count": 99,
          "data": {
            "text/plain": "1"
          },
          "metadata": {}
        }
      ]
    },
    {
      "metadata": {
        "trusted": true,
        "collapsed": true,
        "_uuid": "23855b1b3d25eb4d856c7707423f41a6343a7a3f"
      },
      "cell_type": "code",
      "source": "#q3.a.hint()",
      "execution_count": null,
      "outputs": []
    },
    {
      "metadata": {
        "trusted": true,
        "collapsed": true,
        "_uuid": "5e3e9243ef996c1c2a48dba9085d7af58a4aa08d"
      },
      "cell_type": "code",
      "source": "#q3.a.solution()",
      "execution_count": null,
      "outputs": []
    },
    {
      "metadata": {
        "_uuid": "374c21cb978ef371fbe22925f4dc165f2ea07c5e",
        "_cell_guid": "8ef282f4-3eac-4fe8-b56c-fca739158016"
      },
      "cell_type": "markdown",
      "source": "b) <span title=\"A bit spicy\" style=\"color: darkgreen \">🌶️</span> Add parentheses to the following expression so that it evaluates to 0\n\n<small>Questions, like this one, marked with a single pepper are a bit harder than average.</small>"
    },
    {
      "metadata": {
        "_uuid": "a1ab38e5f577c6bbf6f591ab9c53e55cb316fce3",
        "_cell_guid": "f45f168b-3abb-407e-969c-770f4abde355",
        "trusted": true
      },
      "cell_type": "code",
      "source": "8 - (3 * 2) - (1 + 1)",
      "execution_count": 100,
      "outputs": [
        {
          "output_type": "execute_result",
          "execution_count": 100,
          "data": {
            "text/plain": "0"
          },
          "metadata": {}
        }
      ]
    },
    {
      "metadata": {
        "trusted": true,
        "collapsed": true,
        "_uuid": "a4c86860407c743a69b252534c24f8610f2e477f"
      },
      "cell_type": "code",
      "source": "#q3.b.hint()",
      "execution_count": null,
      "outputs": []
    },
    {
      "metadata": {
        "trusted": true,
        "collapsed": true,
        "_uuid": "a18bd8cef490da27095f93a6bc9deee45e197b4c"
      },
      "cell_type": "code",
      "source": "#q3.b.solution()",
      "execution_count": null,
      "outputs": []
    },
    {
      "metadata": {
        "_uuid": "50a488d918d52adfd6700fdfb40b0edc5a59e667",
        "_cell_guid": "f7d5eb9f-fd44-4338-8676-7722968670a2"
      },
      "cell_type": "markdown",
      "source": "<hr/>\n## 4. \nAlice, Bob and Carol have agreed to pool their Halloween candy and split it evenly among themselves.\nFor the sake of their friendship, any candies left over will be smashed. For example, if they collectively\nbring home 91 candies, they'll take 30 each and smash 1.\n\nWrite an arithmetic expression below to calculate how many candies they must smash for a given haul."
    },
    {
      "metadata": {
        "_uuid": "1acd886a2a99592e92af7c2c286a897835369c1d",
        "_cell_guid": "77a74495-7172-41a1-9805-4794847a4d56",
        "trusted": true
      },
      "cell_type": "code",
      "source": "# Variables representing the number of candies collected by alice, bob, and carol\nalice_candies = 121\nbob_candies = 77\ncarol_candies = 109\n\n# Your code goes here! Replace the right-hand side of this assignment with an expression\n# involving alice_candies, bob_candies, and carol_candies\nto_smash = (alice_candies+bob_candies+carol_candies)%3\n\nq4.check()",
      "execution_count": 101,
      "outputs": [
        {
          "output_type": "display_data",
          "data": {
            "text/plain": "Correct",
            "text/markdown": "<span style=\"color:#33cc33\">Correct</span>"
          },
          "metadata": {}
        }
      ]
    },
    {
      "metadata": {
        "collapsed": true,
        "_uuid": "500fd677a636afc4f4df37c7123e928a1af895f7",
        "_cell_guid": "8ece24c0-3875-4993-a118-56c68ad69350",
        "trusted": true
      },
      "cell_type": "code",
      "source": "#q4.hint()\n#q4.solution()",
      "execution_count": null,
      "outputs": []
    },
    {
      "metadata": {
        "_uuid": "6f483c01dc7199ec05b81b57f31daebf420c301d",
        "_cell_guid": "5803e28d-d8e3-428e-9a43-965862e5a60e"
      },
      "cell_type": "markdown",
      "source": "<hr/>\n## 5. <span title=\"Spicy\" style=\"color: coral\">🌶️🌶️</span>\n\n<small>Questions marked with 2 or more peppers are especially tricky - don't feel bad about having to peek at the solution.</small>\n\nThe code cell below may look like ASCII art, but it's actually a valid Python expression.\nCan you guess its value? Once you've made a prediction, uncomment and run the expression.\n\n<!-- TODO: Maybe a q6.a for them to guess the expression value before running, and have us tell them whether it's right or not? -->"
    },
    {
      "metadata": {
        "_uuid": "517c0f6be7174d3341648beb39c8689e96971254",
        "_cell_guid": "98ebeef3-a24b-433c-9dc5-947c56c92eaf",
        "trusted": true
      },
      "cell_type": "code",
      "source": "7------3",
      "execution_count": 102,
      "outputs": [
        {
          "output_type": "execute_result",
          "execution_count": 102,
          "data": {
            "text/plain": "10"
          },
          "metadata": {}
        }
      ]
    },
    {
      "metadata": {
        "_uuid": "9c52cbf7be72f1ad979775c795aecedd40843834",
        "_cell_guid": "61bc1763-d814-4a81-8dc0-ef05bd75ee85"
      },
      "cell_type": "markdown",
      "source": "What's going on here?\n\nHere's a test of your understanding: how will the value of the expression change as `-`s are added or removed from the middle? Fill in the variable `ninety_nine_dashes` in the code cell below with the value of the above expression if we had used 99 `-` symbols between 7 and 3 ."
    },
    {
      "metadata": {
        "_uuid": "c1f0ac631aa85a7c31602b813a4eac37bbc152a0",
        "_cell_guid": "f1278f0b-e3a8-40ea-9923-f236bdf2e0a8",
        "trusted": true
      },
      "cell_type": "code",
      "source": "ninety_nine_dashes = 4\nq5.check()",
      "execution_count": 103,
      "outputs": [
        {
          "output_type": "display_data",
          "data": {
            "text/plain": "Correct: \n\nThe original expression's value is `10`. If we had used 99 `-`s, the expression's value would be 4. But why? Let's start with a simpler version...\n`7-3` is of course just 3 subtracted from 7: 4. The key is what happens when we add another `-`.\n\n`7--3` is `10`. To match how Python evaluates this expression, we would parenthesize it as `7-(-3)`. The first `-` is treated as a subtraction operator, but the second one is treated as *negation*. We're subtracting negative 3 (which is equivalent to adding 3). Subsequent `-`s are all treated as additional negations, so they cause the subtracted quantity to flip back and forth between 3 and negative 3. Therefore, when there are an odd number of `-`s, the expression equals 4. When there's an even number, the expression equals 10.",
            "text/markdown": "<span style=\"color:#33cc33\">Correct:</span> \n\nThe original expression's value is `10`. If we had used 99 `-`s, the expression's value would be 4. But why? Let's start with a simpler version...\n`7-3` is of course just 3 subtracted from 7: 4. The key is what happens when we add another `-`.\n\n`7--3` is `10`. To match how Python evaluates this expression, we would parenthesize it as `7-(-3)`. The first `-` is treated as a subtraction operator, but the second one is treated as *negation*. We're subtracting negative 3 (which is equivalent to adding 3). Subsequent `-`s are all treated as additional negations, so they cause the subtracted quantity to flip back and forth between 3 and negative 3. Therefore, when there are an odd number of `-`s, the expression equals 4. When there's an even number, the expression equals 10.\n"
          },
          "metadata": {}
        }
      ]
    },
    {
      "metadata": {
        "trusted": true,
        "_uuid": "e23a6d562b6b22a9ce4a9a2c96975164bc706fd1"
      },
      "cell_type": "code",
      "source": "#q5.hint()\n#q5.solution()",
      "execution_count": 104,
      "outputs": [
        {
          "output_type": "display_data",
          "data": {
            "text/plain": "Hint: What would the value of the expression be if there were exactly one `-`? What about two? Can you add parentheses to make it clearer?",
            "text/markdown": "<span style=\"color:#3366cc\">Hint:</span> What would the value of the expression be if there were exactly one `-`? What about two? Can you add parentheses to make it clearer?"
          },
          "metadata": {}
        }
      ]
    },
    {
      "metadata": {
        "_uuid": "4110e01ce59e5821dd9352a70657393a83480059"
      },
      "cell_type": "markdown",
      "source": "<hr/>\n## 6. <span title=\"Spicy\" style=\"color: coral\">🌶️🌶️</span>\n\nThe following is an example of a tricky piece of arithmetic manipulation you might encounter when using Python for visualization.\n\nSuppose we're working with the [QuickDraw dataset](https://www.kaggle.com/google/tinyquickdraw) of doodled sketches and we want to visualize several sketches at once in a grid-like arrangement.\n\nWe'd like to reserve 2x2 inches for each image, and we'd like the whole grid to be no wider than 16 inches.\n\nThe code below almost works. It does the following:\n\n1. Get a random number of sketches from some category (e.g. bears, stars, hockey sticks...)\n2. Create variables `rows`, `cols`, `height`, and `width`, setting them to numbers we pulled out of the air.\n3. Calls `plt.subplots()` using the variables from step 2, which creates a grid with the given characteristics.\n4. Draws the sketches from step 1 in the grid from step 3.\n\nTry running the cell a few times to see it in action."
    },
    {
      "metadata": {
        "trusted": true,
        "_uuid": "a2b0867723feb694e58c09f6439d9b8a939a6433"
      },
      "cell_type": "code",
      "source": "import random\nfrom matplotlib import pyplot as plt\nfrom learntools.python.quickdraw import random_category, sample_images_of_category, draw_images_on_subplots\n\n## Step 1: Sample some sketches\n# How many sketches to view - a random number from 2 to 20\nn = random.randint(2, 20)\n\n# Choose a random quickdraw category. (Check out https://quickdraw.withgoogle.com/data for an overview of categories)\ncategory = random_category()\nimgs = sample_images_of_category(n, category)\n\n## Step 2: Choose the grid properties\n######## Your changes should go here ###############\nif(n<15):\n    rows = int(n**.5)\n    if((n**.5) > int(n**.5)):\n        cols = int((n**.5) + 1.5)\n    else:\n        cols = int(n**.5)\nelse:\n    rows = 3\n    cols = 5\n\n# The height and width of the whole grid, measured in inches.\nif(n<15):\n    height = rows*2\n    width = cols*2\nelse:\n    height = 6\n    width = 10\n\n\n## Step 3: Create the grid\ngrid = plt.subplots(rows, cols, figsize=(width, height))\n\n## Step 4: Draw the sketches in the grid\ndraw_images_on_subplots(imgs, grid)",
      "execution_count": 137,
      "outputs": [
        {
          "output_type": "display_data",
          "data": {
            "text/plain": "<Figure size 720x432 with 15 Axes>",
            "image/png": "[encoded data removed]"
          },
          "metadata": {}
        }
      ]
    },
    {
      "metadata": {
        "_uuid": "664532929fc41840727be8f12f80965694794257"
      },
      "cell_type": "markdown",
      "source": "You may have noticed a few problems (with accompanying warning messages printed out):\n\n- We wanted each image to be drawn in a square (with width and height of 2 inches), but they're being drawn inside fat rectangles.\n- Our grid can only fit at most 15 images. If we sample more than that, only the first 15 are shown.\n- If we sample a small number of images, we waste a lot of space.\n\nAll these problems stem from our shoddy approach to step 2 in the code. Instead of using the same grid dimensions every time, they should adapt to the number of images we're showing. For example, if `n = 3`,  we should make a 6\" x 2\" grid with 1 row and 3 columns. If `n = 15`, we should make a 16\" x 4\" grid with 2 rows and 8 columns. (We'll have one empty space in the grid, but that's okay, as long as we don't have whole rows or columns that are empty.)\n\nUpdate the code above to fix the values of `rows`, `cols`, `width`, and `height`, so that our grid adapts to the number of images shown and makes efficient use of space. Run your code a few times to make sure it doesn't generate any warnings.\n\n<small>**Note**: I'm intentionally glossing over the details of steps 1, 3, and 4 of the code. If you're curious about how the functions we imported such as `sample_images_of_category`, or `draw_images_on_subplots` work, you can check out their definitions [here](https://github.com/Kaggle/learntools/blob/master/learntools/python/quickdraw.py). The code uses lots of syntax and data structures that we'll cover later, so if it looks like gibberish to you at this point, don't worry. We will *not* be going into the specifics of data visualization using matplotlib or any other library in this course. But fortunately, we have a [track on Kaggle Learn](https://www.kaggle.com/learn/data-visualisation) on just that topic.</small>"
    },
    {
      "metadata": {
        "trusted": true,
        "collapsed": true,
        "_uuid": "ab46137776eb9c238aa9a4db94f3fe9f23ac2406"
      },
      "cell_type": "code",
      "source": "#q6.hint()\n#q6.solution()",
      "execution_count": null,
      "outputs": []
    },
    {
      "metadata": {
        "_uuid": "47ac4212e70cdecec65b85c0d4a9dd47b52d441d"
      },
      "cell_type": "markdown",
      "source": "**Bonus**: Can you code this in a way the minimizes the number of empty cells (while obeying the original constraints about 2x2 inches per image and no more than 16\" total width)? For example, a naive solution for `n = 10` might create an 8x2 grid, meaning the bottom row would have only 2 images, and 4 empty spaces. A more clever solution would set `rows = 2`, and `columns = 5`."
    },
    {
      "metadata": {
        "_uuid": "03e5beabe5e1265fae0cd790f1bb9871b82f3c0a"
      },
      "cell_type": "markdown",
      "source": "<hr/>\n## 7. <span title=\"Extra-spicy. Recommended for experienced Pythonistas only\" style=\"color: firebrick\">🌶️🌶️🌶️</span>\n\n<small>Questions marked with 3 peppers are **extra-spicy**, and may be difficult to solve without prior Python experience. They're mostly aimed at experienced Python coders who are taking the Python challenge as a refresher. If that doesn't describe you, feel free to skip this one.</small>\n\nSuppose we want to create two variables, `a` and `b`, both initialized to 0. The obvious way to do this would be...\n\n```python\na = 0\nb = 0```\n\nBut if you've read a lot of Python code, you may be aware of the following nifty shortcut:\n\n```python\na = b = 0\n```\n\nCan you think of a case where it makes a difference which syntax we use, when initializing two variables to the same value?"
    },
    {
      "metadata": {
        "trusted": true,
        "_uuid": "89bc3397d59efc8a62633ec111709188e4528106"
      },
      "cell_type": "code",
      "source": "q7.hint()\nq7.solution()",
      "execution_count": 138,
      "outputs": [
        {
          "output_type": "display_data",
          "data": {
            "text/plain": "Hint 1: You're unlikely to see any practical difference when the value we're initializing to is an int. But think about other Python types you're familiar with...\n(For another hint, call `.hint(2)`)",
            "text/markdown": "<span style=\"color:#3366cc\">Hint 1:</span> You're unlikely to see any practical difference when the value we're initializing to is an int. But think about other Python types you're familiar with...\n(For another hint, call `.hint(2)`)"
          },
          "metadata": {}
        },
        {
          "output_type": "display_data",
          "data": {
            "text/plain": "Solution: The one-line syntax results in `a` and `b` having the same memory address - i.e. they refer to the same object. This matters if that object is of a **mutable** type, like list. Consider the following code:\n```python\nodds = evens = []\nfor i in range(5):\n    if (i % 2) == 0:\n        evens.append(i)\n    else:\n        odds.append(i)\nprint(odds)\nprint(evens)```\n\nWe might expect this would print `[1, 3]`, then `[0, 2, 4]`. But actually, it will print `[0, 1, 2, 3, 4]` twice in a row. `evens` and `odds` refer to the same object, so appending an element to one of them appends it to both of them. This is occasionally the source of hair-pulling debugging sessions. :)\n\nAnother consideration is expressions that have side effects. For example, `list.pop` is a method which removes and returns the final element of a list. If we have `L = [1, 2, 3]`, then `a = b = L.pop()`, will result in `a` and `b` both having a value of 3. But running `a = L.pop()`, then `b = L.pop()` will result in `a` having value 3 and `b` having value 2.",
            "text/markdown": "<span style=\"color:#33cc99\">Solution:</span> The one-line syntax results in `a` and `b` having the same memory address - i.e. they refer to the same object. This matters if that object is of a **mutable** type, like list. Consider the following code:\n```python\nodds = evens = []\nfor i in range(5):\n    if (i % 2) == 0:\n        evens.append(i)\n    else:\n        odds.append(i)\nprint(odds)\nprint(evens)```\n\nWe might expect this would print `[1, 3]`, then `[0, 2, 4]`. But actually, it will print `[0, 1, 2, 3, 4]` twice in a row. `evens` and `odds` refer to the same object, so appending an element to one of them appends it to both of them. This is occasionally the source of hair-pulling debugging sessions. :)\n\nAnother consideration is expressions that have side effects. For example, `list.pop` is a method which removes and returns the final element of a list. If we have `L = [1, 2, 3]`, then `a = b = L.pop()`, will result in `a` and `b` both having a value of 3. But running `a = L.pop()`, then `b = L.pop()` will result in `a` having value 3 and `b` having value 2.\n"
          },
          "metadata": {}
        }
      ]
    },
    {
      "metadata": {
        "_uuid": "92dd3a178699421f69bcf6c762ac022683b6f377"
      },
      "cell_type": "markdown",
      "source": "And that's it for today! If you have any questions, be sure to post them on the [forums](https://www.kaggle.com/learn-forum).\n\nRemember that your notebook is private by default, and in order to share it with other people or ask for help with it, you'll need to make it public. First, you'll need to save a version of your notebook that shows your current work by hitting the \"Commit & Run\" button. (Your work is saved automatically, but versioning your work lets you go back and look at what it was like at the point you saved it. It also let's you share a nice compiled notebook instead of just the raw code.) Then, once your notebook is finished running, you can go to the Settings tab in the panel to the left (you may have to expand it by hitting the [<] button next to the \"Commit & Run\" button) and setting the \"Visibility\" dropdown to \"Public\".\n\nI'll see you tomorrow for day 2 of the challenge. We'll be defining functions and consulting Python's built-in documentation.\n\n<small>P.S. Did you enjoy day 1? Hate it? Help me improve days 2-7 by answering a short set of questions <a href=\"https://form.jotform.com/81608779868277\">here</a>.</small>"
    }
  ],
  "metadata": {
    "kernelspec": {
      "display_name": "Python 3",
      "language": "python",
      "name": "python3"
    },
    "language_info": {
      "name": "python",
      "version": "3.6.6",
      "mimetype": "text/x-python",
      "codemirror_mode": {
        "name": "ipython",
        "version": 3
      },
      "pygments_lexer": "ipython3",
      "nbconvert_exporter": "python",
      "file_extension": ".py"
    }
  },
  "nbformat": 4,
  "nbformat_minor": 1
}